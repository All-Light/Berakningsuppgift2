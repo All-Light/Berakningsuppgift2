{
 "cells": [
  {
   "cell_type": "code",
   "execution_count": 2,
   "metadata": {},
   "outputs": [],
   "source": [
    "import numpy as np\n",
    "import matplotlib.pyplot as plt\n",
    "import pyfluids as pf\n",
    "from scipy.optimize import brentq"
   ]
  },
  {
   "cell_type": "code",
   "execution_count": 3,
   "metadata": {},
   "outputs": [],
   "source": [
    "WATER = pf.Fluid(pf.FluidsList.Water)"
   ]
  },
  {
   "cell_type": "code",
   "execution_count": null,
   "metadata": {},
   "outputs": [
    {
     "name": "stdout",
     "output_type": "stream",
     "text": [
      "13000000.0\n",
      "H3:  3600365.151558058\n",
      "S3:  6760.92808000537\n"
     ]
    }
   ],
   "source": [
    "# Ett system utan matarvattenförvärmning\n",
    "# 4 olika tillstånd\n",
    "#   1 - Precis efter kondensator - Mättad vätska. P1 = P4, S1 = S2\n",
    "#   2 - Precis efter pump - Trycksatt vätska. P2 = P3, S1 = S2\n",
    "#   3 - Precis efter ångpanna. # T3, P2 = P3, S3 = S4\n",
    "#   4 - Precis efter turbin. # P1 = P4, S3 = S4\n",
    "\n",
    "\n",
    "P2 = P3 = 13*1e6 # Pa\n",
    "#print(P3)\n",
    "T3 = 600 # C \n",
    "WATER.update(pf.Input.pressure(P3), pf.Input.temperature(T3))\n",
    "\n",
    "H3 = WATER.enthalpy # J/(kg)\n",
    "S3 = WATER.entropy # J/(kg*K)\n",
    "#print(\"H3: \",H3)\n",
    "#print(\"S3: \",S3)"
   ]
  },
  {
   "cell_type": "code",
   "execution_count": null,
   "metadata": {},
   "outputs": [
    {
     "name": "stdout",
     "output_type": "stream",
     "text": [
      "P4:  28030.389667251104\n"
     ]
    }
   ],
   "source": [
    "def f(P):\n",
    "    WATER.update(pf.Input.pressure(P), pf.Input.quality(0))\n",
    "    s_f = WATER.entropy\n",
    "    WATER.update(pf.Input.pressure(P), pf.Input.quality(100))\n",
    "    s_g = WATER.entropy\n",
    "    return s_f + 0.85 * (s_g - s_f) - S3  # s3 from state 3\n",
    "'''\n",
    "def show_graph():\n",
    "    x = np.linspace(1000, 1e7, 1001)\n",
    "    y = np.zeros_like(x)\n",
    "    for index, val in enumerate(x):\n",
    "        y[index] = f(val)\n",
    "    plt.plot(x,y)\n",
    "    plt.show()\n",
    "'''\n",
    "# Vi löser ut trycket eftersom vi inte kan använda entropi och ångkvalité för att uppdatera vattnet\n",
    "P4 = brentq(f,1000, 1e7)\n",
    "#print(\"P4: \",P4)"
   ]
  },
  {
   "cell_type": "code",
   "execution_count": null,
   "metadata": {},
   "outputs": [
    {
     "name": "stdout",
     "output_type": "stream",
     "text": [
      "H4:  2271016.354096498\n",
      "T4:  67.54255917304096\n"
     ]
    }
   ],
   "source": [
    "# Tillstånd 4\n",
    "# Ångkvalitén minst 85% i tillstånd 4. Entropin är samma som i tillstånd 3\n",
    "# Trycket i tillstånd 4 är samma som tillstånd 1\n",
    "WATER.update(pf.Input.pressure(P4),  pf.Input.quality(85))\n",
    "H4 = WATER.enthalpy\n",
    "T4 = WATER.temperature\n",
    "#print(\"H4: \", H4)\n",
    "#print(\"T4: \", T4)"
   ]
  },
  {
   "cell_type": "code",
   "execution_count": null,
   "metadata": {},
   "outputs": [
    {
     "name": "stdout",
     "output_type": "stream",
     "text": [
      "H1:  282767.099526563\n",
      "S1:  925.023534875328\n"
     ]
    }
   ],
   "source": [
    "# Tillstånd 1 - Efter kondensorn\n",
    "WATER.update(pf.Input.pressure(P4), pf.Input.quality(0))\n",
    "H1 = WATER.enthalpy\n",
    "S2 = S1 = WATER.entropy\n",
    "#print(\"H1: \", H1)\n",
    "#print(\"S1: \", S1)"
   ]
  },
  {
   "cell_type": "code",
   "execution_count": null,
   "metadata": {},
   "outputs": [
    {
     "name": "stdout",
     "output_type": "stream",
     "text": [
      "H2:  295979.8851321223\n"
     ]
    }
   ],
   "source": [
    "# Tillstånd 2 - Efter pumpen\n",
    "WATER.update(pf.Input.pressure(P2), pf.Input.entropy(S2))\n",
    "H2 = WATER.enthalpy\n",
    "\n",
    "#print(\"H2: \", H2)"
   ]
  },
  {
   "cell_type": "code",
   "execution_count": null,
   "metadata": {},
   "outputs": [
    {
     "name": "stdout",
     "output_type": "stream",
     "text": [
      "Pump energy usage (KJ/kg):  13.2127856055593\n",
      "Turbine energy generation (KJ/kg):  1329.34879746156\n",
      "Heater energy input (KJ/kg):  3304.3852664259357\n",
      "Verkningsgrad (%):39.82998063901761\n",
      "Kondensortryck 28.030389667251104 kPa\n"
     ]
    }
   ],
   "source": [
    "W_pump = (H2 - H1)/1000\n",
    "W_turb =(H3 - H4)/1000\n",
    "Q_in = (H3 - H2)/1000\n",
    "print(\"Pump energy usage (KJ/kg): \", W_pump)\n",
    "print(\"Turbine energy generation (KJ/kg): \", W_turb)\n",
    "print(\"Heater energy input (KJ/kg): \", Q_in)\n",
    "\n",
    "W_net = W_turb - W_pump \n",
    "verkningsgrad = W_net/Q_in\n",
    "print(f\"Verkningsgrad (%): {verkningsgrad*100}\")\n",
    "print(f\"Kondensortryck {P4/1000} kPa\")\n"
   ]
  }
 ],
 "metadata": {
  "kernelspec": {
   "display_name": ".venv",
   "language": "python",
   "name": "python3"
  },
  "language_info": {
   "codemirror_mode": {
    "name": "ipython",
    "version": 3
   },
   "file_extension": ".py",
   "mimetype": "text/x-python",
   "name": "python",
   "nbconvert_exporter": "python",
   "pygments_lexer": "ipython3",
   "version": "3.10.9"
  }
 },
 "nbformat": 4,
 "nbformat_minor": 2
}
