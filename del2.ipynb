{
 "cells": [
  {
   "cell_type": "code",
   "execution_count": 11,
   "metadata": {},
   "outputs": [],
   "source": [
    "import numpy as np\n",
    "import matplotlib.pyplot as plt\n",
    "import pyfluids as pf\n",
    "from scipy.optimize import brentq"
   ]
  },
  {
   "cell_type": "code",
   "execution_count": 12,
   "metadata": {},
   "outputs": [],
   "source": [
    "WATER = pf.Fluid(pf.FluidsList.Water)"
   ]
  },
  {
   "cell_type": "code",
   "execution_count": null,
   "metadata": {},
   "outputs": [
    {
     "name": "stdout",
     "output_type": "stream",
     "text": [
      "H5:  3600365.151558058\n",
      "S5:  6760.92808000537\n"
     ]
    }
   ],
   "source": [
    "# Ett system MED matarvattenförvärmning\n",
    "# 7 olika tillstånd\n",
    "#   1 - Precis efter kondensator - Mättad vätska. P1 = P7, S1 = S7\n",
    "#   2 - Precis efter pump 1 - Trycksatt vätska. P2 = P3 = P6, S1 = S2\n",
    "#   3 - Precis efter matarvattenförvärmning. # P2 = P3 = P6\n",
    "#   4 - Precis efter pump 2. # P4 = P5, S3 = S4\n",
    "#   5 - Precis efter ångpanna. # P4 = P5, T5\n",
    "#   6 - Precis efter turbin fraktion y. # S5 = S6 = S7\n",
    "#   7 - Precis efter turbin fraktion 1-y. # S5 = S6 = S7\n",
    "\n",
    "P5 = 13*1e6 # Pa\n",
    "T5 = 600 # C \n",
    "WATER.update(pf.Input.pressure(P5), pf.Input.temperature(T5))\n",
    "\n",
    "H5 = WATER.enthalpy # J/(kg)\n",
    "S5 = WATER.entropy # J/(kg*K)\n",
    "#print(\"H5: \", H5)\n",
    "#print(\"S5: \", S5)"
   ]
  },
  {
   "cell_type": "code",
   "execution_count": null,
   "metadata": {},
   "outputs": [
    {
     "name": "stdout",
     "output_type": "stream",
     "text": [
      "H7:  2271016.354096498\n",
      "S7:  6760.92808000537\n",
      "T7:  67.54255917304096\n"
     ]
    }
   ],
   "source": [
    "# Givet från förra uppgiften:\n",
    "#   Kondensatortryck:\n",
    "P1 = P7 = 28030.389667251104 # Pa\n",
    "\n",
    "WATER.update(pf.Input.pressure(P7),  pf.Input.quality(85))\n",
    "H7 = WATER.enthalpy\n",
    "S7 = WATER.entropy\n",
    "T7 = WATER.temperature\n",
    "#print(\"H7: \", H7)\n",
    "#print(\"S7: \", S7)\n",
    "#print(\"T7: \", T7)"
   ]
  },
  {
   "cell_type": "code",
   "execution_count": null,
   "metadata": {},
   "outputs": [
    {
     "name": "stdout",
     "output_type": "stream",
     "text": [
      "H1:  282767.099526563\n",
      "S1:  925.023534875328\n",
      "T1:  67.54255917304096\n"
     ]
    }
   ],
   "source": [
    "# Tillstånd 1 har samma tryck som tillstånd 7 och ångkvalité 0% (mättad vätska)\n",
    "WATER.update(pf.Input.pressure(P7), pf.Input.quality(0))\n",
    "H1 = WATER.enthalpy\n",
    "S1 = WATER.entropy\n",
    "T1 = WATER.temperature\n",
    "#print(\"H1: \", H1)\n",
    "#print(\"S1: \", S1)\n",
    "#print(\"T1: \", T1)"
   ]
  },
  {
   "cell_type": "code",
   "execution_count": null,
   "metadata": {},
   "outputs": [],
   "source": [
    "# SÖKES: tryck i tillstånd 2, 3, 6\n",
    "#   Vi vet att tillstånd 3 är mättad vätska (ångkvalité 0%) och samma tryck som tillstånd 6.\n",
    "#   Vi vet att tillstånd 6 är överhettad ånga\n",
    "def f(P, y): \n",
    "    # Beräkna trycket P som krävs vid fraktion y från turbinen (brentq)\n",
    "    #   för att energiprincipen ska vara uppfylld \n",
    "    \n",
    "    # isentrop pump mellan 1-2 ger H2\n",
    "    WATER.update(pf.Input.pressure(P), pf.Input.entropy(S1)) \n",
    "    H2 = WATER.enthalpy\n",
    "\n",
    "    # givet mättad vätska vid samma tryck som 2 och 6 ger H3\n",
    "    WATER.update(pf.Input.pressure(P), pf.Input.quality(0))\n",
    "    H3 = WATER.enthalpy\n",
    "\n",
    "    # isentrop turbin ger att entropin är samma i 5-6-7 och ger då H6 för trycket\n",
    "    WATER.update(pf.Input.pressure(P), pf.Input.entropy(S7))\n",
    "    H6 = WATER.enthalpy\n",
    "\n",
    "    # Energiprincipen => delta E_sys = 0 sök P givet y.\n",
    "    return ((1-y)*H2 + y*H6) - H3\n"
   ]
  },
  {
   "cell_type": "code",
   "execution_count": 28,
   "metadata": {},
   "outputs": [],
   "source": [
    "# SÖKES: tryck i tillstånd 2, 3, 6\n",
    "#   Vi vet att tillstånd 3 är mättad vätska (ångkvalité 0%) och samma tryck som tillstånd 6.\n",
    "#   Vi vet att tillstånd 6 är överhettad ånga\n",
    "\n",
    "'''\n",
    "Visualisera tryck-energy\n",
    "def show_graph():\n",
    "    percentage = np.linspace(0, 1, 101)\n",
    "    x = np.linspace(1000, 1e7, 101)\n",
    "    y = np.zeros(shape=[len(percentage), len(x)])\n",
    "    for index1, percent in enumerate(percentage):\n",
    "        #print(\"new percentage: \", percent)\n",
    "        for index2, pressure in enumerate(x):\n",
    "            y[index1, index2] = f(pressure, percent)\n",
    "    #print(y)\n",
    "    plt.plot(x.T, y.T)\n",
    "\n",
    "    plt.xlabel(\"Pressure\")\n",
    "    plt.ylabel(\"Energy \")\n",
    "    plt.show()\n",
    "show_graph()\n",
    "'''\n",
    "\n",
    "percentages = np.linspace(0, 1, 1001) # olika fraktioner y\n",
    "\n",
    "# Skapa matris av trycket P vid de olika fraktionerna y. \n",
    "#   sol har struktur [[y_0, P_0], [y_1, P_1]] då vi behöver\n",
    "#   vet vilken fraktion som motsvarar vilket tryck.\n",
    "\n",
    "sol = np.zeros([len(percentages),2])\n",
    "for index, y in enumerate(percentages):\n",
    "    try:\n",
    "        min_pressure = 1000 #Pa\n",
    "        max_pressure = P5 # impossible to have higher pressure than P5\n",
    "        sol[index,:] = (y, brentq(f, min_pressure, max_pressure, args=y))\n",
    "    except:\n",
    "        pass\n",
    "\n",
    "# bevara endast där trycket är större än 0 (dvs vi har en lösning)\n",
    "sol = sol[sol[:, 1] > 0]\n",
    "\n",
    "# då vi har en matris av tryck P får vi även matriser för tillstånd 2,3 och 6\n",
    "S3 = np.zeros_like(sol[:,1])\n",
    "H3 = np.zeros_like(sol[:,1])\n",
    "\n",
    "S2 = np.zeros_like(sol[:,1])\n",
    "H2 = np.zeros_like(sol[:,1])\n",
    "\n",
    "S6 = np.zeros_like(sol[:,1])\n",
    "H6 = np.zeros_like(sol[:,1])\n",
    "\n",
    "for index, row in enumerate(sol):\n",
    "    P = row[1]\n",
    "    if P == 0:\n",
    "        continue\n",
    "    # 3 - mättad ånga vid tryck P\n",
    "    WATER.update(pf.Input.pressure(P), pf.Input.quality(0))\n",
    "    S3[index] = WATER.entropy\n",
    "    H3[index] = WATER.enthalpy\n",
    "    # 2 - samma entropi som 1 (isentrop pump) vid tryck P\n",
    "    WATER.update(pf.Input.pressure(P), pf.Input.entropy(S1))\n",
    "    S2[index] = WATER.entropy\n",
    "    H2[index] = WATER.enthalpy\n",
    "    # 6 - samma entropi som 5 (isentrop turbin) vid tryck P\n",
    "    WATER.update(pf.Input.pressure(P), pf.Input.entropy(S5))\n",
    "    S6[index] = WATER.entropy\n",
    "    H6[index] = WATER.enthalpy"
   ]
  },
  {
   "cell_type": "code",
   "execution_count": 29,
   "metadata": {},
   "outputs": [],
   "source": [
    "# Tillstånd 4 har samma entropi som tillstånd 3 och samma tryck som tillstånd 5\n",
    "#   pga isobar ångpanna\n",
    "H4 = np.empty_like(S3)\n",
    "for index, entropy in enumerate(S3):\n",
    "    WATER.update(pf.Input.entropy(entropy), pf.Input.pressure(P5))\n",
    "    H4[index] = WATER.enthalpy \n"
   ]
  },
  {
   "cell_type": "code",
   "execution_count": null,
   "metadata": {},
   "outputs": [
    {
     "name": "stdout",
     "output_type": "stream",
     "text": [
      "maximala verkningsgraden fås vid y=20.8% då verkningsgraden är 42.72895463929728%. \n",
      "Trycket uppgår till ca 1.4478598321235834 MPa\n"
     ]
    }
   ],
   "source": [
    "# vi får matriser för pumparbetet och värmetillförsel\n",
    "W_pump1 = H2 - H1 # arbete i pump 1 är entalpiskillnaden\n",
    "W_pump2 = H4 - H3 # arbete i pump 2 är entalpiskillnaden\n",
    "Q_in = H5 - H4 # värmetillförsel i ångpannan är entalpiskillnaden\n",
    "\n",
    "W_turb = np.empty_like(sol)\n",
    "for index, row in enumerate(sol):\n",
    "    y = row[0]\n",
    "    # systemets arbete på turbinen, på formen (fraktion, energiutvinning)\n",
    "    W_turb[index] = (y, H5 - H6[index] +(1-y)*(H6[index] - H7))\n",
    "\n",
    "W_net = W_turb[:,1] - W_pump1 - W_pump2\n",
    "verkningsgrad = W_net / Q_in\n",
    "max_index = np.argmax(verkningsgrad) # maximala verkningsgradens index\n",
    "\n",
    "#print(\"W_net: \", W_net)\n",
    "#print(\"Q_in: \", Q_in)\n",
    "#print(\"verkningsgrad: \",verkningsgrad)\n",
    "print(f\"Maximala verkningsgraden fås vid y={sol[max_index,0]*100}% då verkningsgraden är {np.max(verkningsgrad)*100}%. \")\n",
    "print(f\"Trycket uppgår till ca {sol[max_index,1]/1e6} MPa\")"
   ]
  }
 ],
 "metadata": {
  "kernelspec": {
   "display_name": ".venv",
   "language": "python",
   "name": "python3"
  },
  "language_info": {
   "codemirror_mode": {
    "name": "ipython",
    "version": 3
   },
   "file_extension": ".py",
   "mimetype": "text/x-python",
   "name": "python",
   "nbconvert_exporter": "python",
   "pygments_lexer": "ipython3",
   "version": "3.10.9"
  }
 },
 "nbformat": 4,
 "nbformat_minor": 2
}
