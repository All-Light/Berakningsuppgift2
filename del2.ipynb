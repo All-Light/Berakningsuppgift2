{
 "cells": [
  {
   "cell_type": "code",
   "execution_count": 3,
   "metadata": {},
   "outputs": [],
   "source": [
    "import numpy as np\n",
    "import matplotlib.pyplot as plt\n",
    "import pyfluids as pf\n",
    "from scipy.optimize import brentq"
   ]
  },
  {
   "cell_type": "code",
   "execution_count": 4,
   "metadata": {},
   "outputs": [],
   "source": [
    "WATER = pf.Fluid(pf.FluidsList.Water)"
   ]
  },
  {
   "cell_type": "code",
   "execution_count": 65,
   "metadata": {},
   "outputs": [
    {
     "name": "stdout",
     "output_type": "stream",
     "text": [
      "H5:  3600365.151558058\n",
      "S5:  6760.92808000537\n"
     ]
    }
   ],
   "source": [
    "# Ett system MED matarvattenförvärmning\n",
    "# 7 olika tillstånd\n",
    "#   1 - Precis efter kondensator - Mättad vätska. P1 = P7, S1 = S7\n",
    "#   2 - Precis efter pump 1 - Trycksatt vätska. P2 = P3 = P6, S1 = S2\n",
    "#   3 - Precis efter matarvattenförvärmning. # P2 = P3 = P6\n",
    "#   4 - Precis efter pump 2. # P4 = P5, S3 = S4\n",
    "#   5 - Precis efter ångpanna. # P4 = P5, T5\n",
    "#   6 - Precis efter turbin fraktion y. # S5 = S6 = S7\n",
    "#   7 - Precis efter turbin fraktion 1-y. # S5 = S6 = S7\n",
    "\n",
    "P4 = P5 = 13*1e6 # Pa\n",
    "T5 = 600 # C \n",
    "WATER.update(pf.Input.pressure(P5), pf.Input.temperature(T5))\n",
    "\n",
    "H5 = WATER.enthalpy # J/(kg)\n",
    "S5 = WATER.entropy # J/(kg*K)\n",
    "print(\"H5: \", H5)\n",
    "print(\"S5: \", S5)"
   ]
  },
  {
   "cell_type": "code",
   "execution_count": 123,
   "metadata": {},
   "outputs": [
    {
     "name": "stdout",
     "output_type": "stream",
     "text": [
      "H7:  2271016.354096498\n",
      "S7:  6760.92808000537\n",
      "T7:  67.54255917304096\n"
     ]
    }
   ],
   "source": [
    "# Givet från förra uppgiften:\n",
    "#   Kondensatortryck:\n",
    "P1 = P7 = 28030.389667251104 # Pa\n",
    "\n",
    "WATER.update(pf.Input.pressure(P7),  pf.Input.quality(85))\n",
    "H7 = WATER.enthalpy\n",
    "S7 = WATER.entropy\n",
    "T7 = WATER.temperature\n",
    "print(\"H7: \", H7)\n",
    "print(\"S7: \", S7)\n",
    "print(\"T7: \", T7)"
   ]
  },
  {
   "cell_type": "code",
   "execution_count": null,
   "metadata": {},
   "outputs": [
    {
     "name": "stdout",
     "output_type": "stream",
     "text": [
      "H1:  282767.099526563\n",
      "S1:  925.023534875328\n",
      "T1:  67.54255917304096\n"
     ]
    }
   ],
   "source": [
    "# Tillstånd 1 har samma tryck som tillstånd 7 och ångkvalité 0% (mättad vätska)\n",
    "WATER.update(pf.Input.pressure(P7), pf.Input.quality(0))\n",
    "H1 = WATER.enthalpy\n",
    "S1 = WATER.entropy\n",
    "T1 = WATER.temperature\n",
    "print(\"H1: \", H1)\n",
    "print(\"S1: \", S1)\n",
    "print(\"T1: \", T1)"
   ]
  },
  {
   "cell_type": "code",
   "execution_count": 127,
   "metadata": {},
   "outputs": [
    {
     "name": "stdout",
     "output_type": "stream",
     "text": [
      "[ 282767.09952656  286763.93361168  290783.18449788  294824.9693912\n",
      "  298889.40536166  302976.60932073  307086.69799813  311219.78791771\n",
      "  315375.99537321  319555.43640269  323758.22676275  327984.4819019\n",
      "  332234.31693319  336507.8466063   340805.18527865  345126.44688631\n",
      "  349471.74491368  353841.19236284  358234.90172185  362652.98493304\n",
      "  367095.55335947  371562.71775187  376054.58821423  380571.27416864\n",
      "  385112.8843199   389679.52661899  394271.30822602  398888.33547262\n",
      "  403530.7138234   408198.54783705  412891.9411265   417610.99631834\n",
      "  422355.8150121   427126.49773835  431923.14391638  436745.85181122\n",
      "  441594.71849013  446469.83977827  451371.31021408  456299.22300372\n",
      "  461253.66997519  466234.74153178  471242.52660506  476277.11260719\n",
      "  481338.58538276  486427.02916026  491542.52650283  496685.15825875\n",
      "  501855.00351121  507052.1395281   512276.64171049  517528.58354198\n",
      "  522808.03653658  528115.07018656  533449.75191017  538812.1469988\n",
      "  544202.31856392  549620.32748363  555066.23234915  560540.08941082\n",
      "  566041.95252415  571571.87309548  577129.90002754  582716.07966485\n",
      "  588330.45573904  593973.0693141   599643.95873141  605343.15955495\n",
      "  611070.70451644  616826.62346014  622610.94328852  628423.68790692\n",
      "  634264.87816934  640134.53182372  646032.66345732  651959.28444301\n",
      "  657914.40288485  663898.02356476  669910.15718634  675953.51841969\n",
      "  682030.41575768  688141.0878717   694285.76839182  700464.68618879\n",
      "  706678.06558687  712926.12651165  719209.08457877  725527.15113172\n",
      "  731880.53323613  738269.43363565  744694.05067796  751154.5782143\n",
      "  757651.20547759  764184.11694243  770753.4921707   777359.50564412\n",
      "  784002.32658709  790682.11878043  797399.04036767  804153.24365512\n",
      "  810944.87490664  817774.07413332  824640.97487936  831545.70400425\n",
      "  838488.38146158  845469.12007524  852488.02531294  859545.19505746\n",
      "  866640.71937578  873774.68028659  880947.15152567  888158.19830962\n",
      "  895407.87710053  902696.23536505  910023.31133652  917389.13377411\n",
      "  924793.72172183  932237.08426661  939719.220296    947240.11825526\n",
      "  954799.75590446  962398.10007479  970035.10642519  977710.71919855\n",
      "  985424.87097823  993177.4824443  1000968.46213    1008797.70617843\n",
      " 1016665.09809926 1024570.50852574 1032513.79497168 1040494.80158893\n",
      " 1048513.35892495 1056569.28368035 1064662.37846679 1072792.43156481\n",
      " 1080959.21668192 1089162.49271038 1097402.00348513 1105677.4775416\n",
      " 1113988.62787308 1122335.15168862 1130716.73016881 1139133.02822387\n",
      " 1147583.69424907 1156068.35988104 1164586.63975342 1173138.13125218\n",
      " 1181722.41427093 1190339.0509662  1198987.58551289 1207667.54386032\n",
      " 1216378.43348931 1225119.74317011 1233890.94272285 1242691.48277992\n",
      " 1251520.79455211 1260378.2895984  1269263.35960122 1278175.37614764\n",
      " 1287113.69051779 1296077.63348184 1305066.51510684 1314079.62457428\n",
      " 1323116.23001022 1332175.57832845 1341256.89508771 1350359.38436375\n",
      " 1359482.2286358  1368624.58868679 1377785.60351578 1386964.39025963\n",
      " 1396160.0441193  1405371.63828463 1414598.22384886 1423838.82970178\n",
      " 1433092.46238669 1442358.10590346 1451634.72143632 1460921.2469803\n",
      " 1470216.59683744 1479519.66094967 1488829.3040336  1498144.36447983\n",
      " 1507463.65298227 1516785.9508647  1526110.00808031]\n"
     ]
    }
   ],
   "source": [
    "# SÖKES: tryck i tillstånd 2, 3, 6\n",
    "#   Vi vet att tillstånd 3 är mättad vätska (ångkvalité 0%) och samma tryck som tillstånd 6.\n",
    "#   Vi vet att tillstånd 6 är överhettad ånga\n",
    "\n",
    "def f(P, y): \n",
    "    # andel = fraktion y från turbin\n",
    "    WATER.update(pf.Input.pressure(P), pf.Input.entropy(S1))\n",
    "    H2 = WATER.enthalpy\n",
    "\n",
    "    WATER.update(pf.Input.pressure(P), pf.Input.quality(0))\n",
    "    H3 = WATER.enthalpy\n",
    "\n",
    "    WATER.update(pf.Input.pressure(P), pf.Input.entropy(S7))\n",
    "    H6 = WATER.enthalpy\n",
    "\n",
    "    #print(\"Percentage: \", y)\n",
    "    #print(\"H2: \", H2)\n",
    "    #print(\"H3: \", H3)\n",
    "    #print(\"H6: \", H6)\n",
    "    #print(\"---\")\n",
    "    # Energiprincipen\n",
    "    return ((1-y)*H2 + y*H6) - H3\n",
    "\n",
    "def show_graph():\n",
    "    percentage = np.linspace(0, 1, 101)\n",
    "    x = np.linspace(1000, 1e7, 101)\n",
    "    y = np.zeros(shape=[len(percentage), len(x)])\n",
    "    for index1, percent in enumerate(percentage):\n",
    "        #print(\"new percentage: \", percent)\n",
    "        for index2, pressure in enumerate(x):\n",
    "            y[index1, index2] = f(pressure, percent)\n",
    "    #print(y)\n",
    "    plt.plot(x.T, y.T)\n",
    "\n",
    "    plt.xlabel(\"Pressure\")\n",
    "    plt.ylabel(\"Energy \")\n",
    "    plt.show()\n",
    "#show_graph()\n",
    "\n",
    "percentages = np.linspace(0, 1, 500)\n",
    "# Create array of possible pressure values for different fractions y \n",
    "sol = np.zeros([len(percentages),2])\n",
    "\n",
    "for index, val in enumerate(percentages):\n",
    "    try:\n",
    "        sol[index,:] = (val, brentq(f,1000,P5, args=val))\n",
    "    except:\n",
    "        pass\n",
    "# Solution stores many rows of two columns (fraction y, pressure)\n",
    "sol = sol[sol[:, 1] > 0]\n",
    "\n",
    "S3 = np.zeros_like(sol[:,1])\n",
    "H3 = np.zeros_like(sol[:,1])\n",
    "for index, row in enumerate(sol):\n",
    "    P = row[1]\n",
    "    if P == 0:\n",
    "        continue\n",
    "    WATER.update(pf.Input.pressure(P), pf.Input.quality(0))\n",
    "    S3[index] = WATER.entropy\n",
    "    H3[index] = WATER.enthalpy\n",
    "\n",
    "S2 = np.zeros_like(sol[:,1])\n",
    "H2 = np.zeros_like(sol[:,1])\n",
    "for index, row in enumerate(sol):\n",
    "    P = row[1]\n",
    "    if P == 0:\n",
    "        continue\n",
    "    WATER.update(pf.Input.pressure(P), pf.Input.entropy(S1))\n",
    "    S2[index] = WATER.entropy\n",
    "    H2[index] = WATER.enthalpy\n",
    "\n",
    "S6 = np.zeros_like(sol[:,1])\n",
    "H6 = np.zeros_like(sol[:,1])\n",
    "for index, row in enumerate(sol):\n",
    "    P = row[1]\n",
    "    if P == 0:\n",
    "        continue\n",
    "    WATER.update(pf.Input.pressure(P), pf.Input.entropy(S5))\n",
    "    S6[index] = WATER.entropy\n",
    "    H6[index] = WATER.enthalpy\n",
    "\n",
    "print(H3)"
   ]
  },
  {
   "cell_type": "code",
   "execution_count": 129,
   "metadata": {},
   "outputs": [],
   "source": [
    "# Tillstånd 4 har samma entropi som tillstånd 3 och samma tryck som tillstånd\n",
    "H4 = np.empty_like(S3)\n",
    "for index, entropy in enumerate(S3):\n",
    "    WATER.update(pf.Input.entropy(entropy), pf.Input.pressure(P4))\n",
    "    H4[index] = WATER.enthalpy \n",
    "#print(H4)"
   ]
  },
  {
   "cell_type": "code",
   "execution_count": 137,
   "metadata": {},
   "outputs": [
    {
     "name": "stdout",
     "output_type": "stream",
     "text": [
      "maximala verkningsgraden fås vid y=20.841683366733466% då verkningsgraden är 0.42728974233087 \n"
     ]
    }
   ],
   "source": [
    "W_pump1 = H2 - H1\n",
    "W_pump2 = H4 - H3\n",
    "Q_in = H5 - H4\n",
    "\n",
    "W_turb = np.empty_like(sol)\n",
    "for index, row in enumerate(sol):\n",
    "    y = row[0]\n",
    "    #FIXME: \n",
    "    W_turb[index] = (y, H5 - H6[index] +(1-y)*(H6[index] - H7))\n",
    "\n",
    "#print(W_turb[:,1])\n",
    "W_net = W_turb[:,1] - W_pump1 - W_pump2\n",
    "verkningsgrad = np.divide(W_net, Q_in)\n",
    "max_index = np.argmax(verkningsgrad)\n",
    "\n",
    "#print(\"W_net: \", W_net)\n",
    "#print(\"Q_in: \", Q_in)\n",
    "#print(\"verkningsgrad: \",verkningsgrad)\n",
    "print(f\"maximala verkningsgraden fås vid y={sol[max_index,0]*100}% då verkningsgraden är {np.max(verkningsgrad)} \")"
   ]
  }
 ],
 "metadata": {
  "kernelspec": {
   "display_name": ".venv",
   "language": "python",
   "name": "python3"
  },
  "language_info": {
   "codemirror_mode": {
    "name": "ipython",
    "version": 3
   },
   "file_extension": ".py",
   "mimetype": "text/x-python",
   "name": "python",
   "nbconvert_exporter": "python",
   "pygments_lexer": "ipython3",
   "version": "3.10.9"
  }
 },
 "nbformat": 4,
 "nbformat_minor": 2
}
